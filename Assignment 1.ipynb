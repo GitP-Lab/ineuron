{
 "cells": [
  {
   "cell_type": "code",
   "execution_count": 1,
   "metadata": {},
   "outputs": [
    {
     "name": "stdout",
     "output_type": "stream",
     "text": [
      "2030 ,2065 ,2100 ,2135 ,2170 ,2205 ,2240 ,2275 ,2310 ,2345 ,2380 ,2415 ,2450 ,2485 ,2520 ,2555 ,2590 ,2625 ,2660 ,2695 ,2730 ,2765 ,2800 ,2835 ,2870 ,2905 ,2940 ,2975 ,3010 ,3045 ,3080 ,3115 ,3150 ,3185 ,"
     ]
    }
   ],
   "source": [
    "#1\n",
    "\n",
    "def isMultipleof5(n): \n",
    "    s = str(n); \n",
    "    l = len(s); \n",
    "      \n",
    "    # Check the last  \n",
    "    # character of string \n",
    "    if (s[l - 1] == '5' or\n",
    "        s[l - 1] == '0'): \n",
    "        return True; \n",
    "    return False; \n",
    "  \n",
    "# Driver Code \n",
    "x=list(range(2000,3201))\n",
    "for i in x:\n",
    "    if (isMultipleof5(i) == True and  i%7 == 0):\n",
    "         print(i,end=\" ,\");\n",
    "   "
   ]
  },
  {
   "cell_type": "code",
   "execution_count": null,
   "metadata": {},
   "outputs": [],
   "source": [
    "#2\n",
    "\n",
    "F_Name = input()\n",
    "L_Name = input()\n",
    "print (L_Name + '  ' + F_Name)"
   ]
  },
  {
   "cell_type": "code",
   "execution_count": 2,
   "metadata": {},
   "outputs": [
    {
     "data": {
      "text/plain": [
       "904.3199999999999"
      ]
     },
     "execution_count": 2,
     "metadata": {},
     "output_type": "execute_result"
    }
   ],
   "source": [
    "#3\n",
    "\n",
    "r=12/2\n",
    "v=((4/3)*(3.14)*((r)**3))\n",
    "v"
   ]
  },
  {
   "cell_type": "code",
   "execution_count": null,
   "metadata": {},
   "outputs": [],
   "source": []
  }
 ],
 "metadata": {
  "kernelspec": {
   "display_name": "Python 3",
   "language": "python",
   "name": "python3"
  },
  "language_info": {
   "codemirror_mode": {
    "name": "ipython",
    "version": 3
   },
   "file_extension": ".py",
   "mimetype": "text/x-python",
   "name": "python",
   "nbconvert_exporter": "python",
   "pygments_lexer": "ipython3",
   "version": "3.7.6"
  }
 },
 "nbformat": 4,
 "nbformat_minor": 4
}
