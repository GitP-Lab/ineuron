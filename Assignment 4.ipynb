{
 "cells": [
  {
   "cell_type": "code",
   "execution_count": 1,
   "metadata": {},
   "outputs": [
    {
     "name": "stdout",
     "output_type": "stream",
     "text": [
      "120\n"
     ]
    }
   ],
   "source": [
    "class Rectangle():\n",
    "    def __init__(self, l, w):\n",
    "        self.length = l\n",
    "        self.width  = w\n",
    "\n",
    "    def rectangle_area(self):\n",
    "        return self.length*self.width\n",
    "\n",
    "newRectangle = Rectangle(12, 10)\n",
    "print(newRectangle.rectangle_area())"
   ]
  },
  {
   "cell_type": "code",
   "execution_count": 17,
   "metadata": {},
   "outputs": [
    {
     "name": "stdout",
     "output_type": "stream",
     "text": [
      "24.544602257930357\n"
     ]
    }
   ],
   "source": [
    "#1.1\n",
    "class triangle():\n",
    "    def __init__(self,a,b,c):\n",
    "        self.side1 = a\n",
    "        self.side2 = b\n",
    "        self.side3 = c\n",
    "        \n",
    "    def triangle_area(self):\n",
    "        s = (self.side1+self.side2+self.side3)/2\n",
    "        area = float((s*(s-self.side1)*(s-self.side2)*(s-self.side3))**0.5)\n",
    "        return area\n",
    "    \n",
    "newtriangle = triangle(10,12,5)\n",
    "print(newtriangle.triangle_area())\n",
    "\n",
    "\n",
    "    "
   ]
  },
  {
   "cell_type": "code",
   "execution_count": null,
   "metadata": {},
   "outputs": [],
   "source": [
    "print(\"Enter 'x' for exit.\");\n",
    "leng = input(\"Enter length of Rectangle: \");\n",
    "if leng == 'x':\n",
    "    exit();\n",
    "else:\n",
    "    brea = input(\"Enter breadth of Rectangle: \");\n",
    "    length = int(leng);\n",
    "    breadth = int(brea);\n",
    "    area = length*breadth;\n",
    "    print(\"\\nArea of Rectangle =\",area);"
   ]
  },
  {
   "cell_type": "code",
   "execution_count": null,
   "metadata": {},
   "outputs": [],
   "source": [
    " class inputside:\n",
    "        def __init__(self, side1, side2, side3):\n",
    "            self.side1 = side1\n",
    "            self.side2 = side2\n",
    "            self.side3 = side3\n",
    "            \n",
    "\n",
    "\n",
    "    \n",
    "side1 = input(\"Enter side1: \")\n",
    "side2 = input(\"Enter side2: \")\n",
    "side3 = input(\"Enter side3: \")\n"
   ]
  },
  {
   "cell_type": "code",
   "execution_count": null,
   "metadata": {},
   "outputs": [],
   "source": [
    "name = input(\"En\")\n",
    "name"
   ]
  },
  {
   "cell_type": "code",
   "execution_count": 1,
   "metadata": {},
   "outputs": [
    {
     "name": "stdout",
     "output_type": "stream",
     "text": [
      "Enter a number: 12\n"
     ]
    }
   ],
   "source": [
    "test_text = input (\"Enter a number: \")"
   ]
  },
  {
   "cell_type": "code",
   "execution_count": 2,
   "metadata": {},
   "outputs": [
    {
     "name": "stdout",
     "output_type": "stream",
     "text": [
      "Enter side1: 12\n",
      "Enter side2: 13\n",
      "Enter side3: 12\n"
     ]
    }
   ],
   "source": [
    "side1 = input(\"Enter side1: \")\n",
    "side2 = input(\"Enter side2: \")\n",
    "side3 = input(\"Enter side3: \")"
   ]
  },
  {
   "cell_type": "code",
   "execution_count": 10,
   "metadata": {},
   "outputs": [
    {
     "name": "stdout",
     "output_type": "stream",
     "text": [
      "Enter side 1 : 10\n",
      "Enter side 2 : 12\n",
      "Enter side 3 : 13\n",
      "Side 1 is 10.0\n",
      "Side 2 is 12.0\n",
      "Side 3 is 13.0\n",
      "The area of the triangle is 57.00\n"
     ]
    }
   ],
   "source": [
    "class Polygon:\n",
    "    def __init__(self, no_of_sides):\n",
    "        self.n = no_of_sides\n",
    "        self.sides = [0 for i in range(no_of_sides)]\n",
    "\n",
    "    def inputSides(self):\n",
    "        self.sides = [float(input(\"Enter side \"+str(i+1)+\" : \")) for i in range(self.n)]\n",
    "\n",
    "    def dispSides(self):\n",
    "        for i in range(self.n):\n",
    "            print(\"Side\",i+1,\"is\",self.sides[i])\n",
    "            \n",
    "\n",
    "            \n",
    "class Triangle(Polygon):\n",
    "    def __init__(self):\n",
    "        Polygon.__init__(self,3)\n",
    "\n",
    "    def findArea(self):\n",
    "        a, b, c = self.sides\n",
    "        # calculate the semi-perimeter\n",
    "        s = (a + b + c) / 2\n",
    "        area = (s*(s-a)*(s-b)*(s-c)) ** 0.5\n",
    "        print('The area of the triangle is %0.2f' %area)\n",
    "        \n",
    "t = Triangle()\n",
    "t.inputSides()\n",
    "t.dispSides()\n",
    "t.findArea()"
   ]
  },
  {
   "cell_type": "code",
   "execution_count": 3,
   "metadata": {},
   "outputs": [
    {
     "name": "stdout",
     "output_type": "stream",
     "text": [
      "enter word: ds kfd sfsdf sdff wefwerf\n",
      "max length: 3\n",
      "sdff\n",
      "wefwerf\n"
     ]
    }
   ],
   "source": [
    "#1.2\n",
    "def inputword():\n",
    "    word = input(\"enter word: \")\n",
    "    length = int(input(\"max length: \"))\n",
    "    wrd = word.split(\" \")\n",
    "    for i in range(0,len(wrd)):\n",
    "        if i+1 > length:\n",
    "            print(wrd[i])\n",
    "   \n",
    "        \n",
    "\n",
    "inputword()"
   ]
  },
  {
   "cell_type": "code",
   "execution_count": 6,
   "metadata": {},
   "outputs": [
    {
     "name": "stdout",
     "output_type": "stream",
     "text": [
      "number of words:3\n",
      "Enter words 1 : ab\n",
      "Enter words 2 : bcd\n",
      "Enter words 3 : cde\n",
      "['ab', 'bcd', 'cde']\n",
      "[2, 3, 3]\n"
     ]
    }
   ],
   "source": [
    "#2.1\n",
    "def maplen():\n",
    "    n = int(input(\"number of words:\"))\n",
    "    words = [str(input(\"Enter words \"+str(i+1)+\" : \")) for i in range(n)]\n",
    "    print (words)\n",
    "    print([len(words[i]) for i in range(n)])\n",
    "    \n",
    "maplen()\n",
    "    \n",
    "    "
   ]
  },
  {
   "cell_type": "code",
   "execution_count": 7,
   "metadata": {},
   "outputs": [
    {
     "name": "stdout",
     "output_type": "stream",
     "text": [
      "input char:h\n"
     ]
    },
    {
     "data": {
      "text/plain": [
       "False"
      ]
     },
     "execution_count": 7,
     "metadata": {},
     "output_type": "execute_result"
    }
   ],
   "source": [
    "#2.2\n",
    "def takechars():\n",
    "    char = input(\"input char:\")\n",
    "    if len(char) == 1:\n",
    "        return False if 'aeiouAEIOU'.find(char) < 0 else True\n",
    "    else:\n",
    "        print(\"enter character of length 1 \")\n",
    "\n",
    "takechars()\n",
    "        \n",
    "        \n",
    "        \n",
    "        \n",
    "        \n",
    "        \n",
    "    \n"
   ]
  },
  {
   "cell_type": "code",
   "execution_count": 41,
   "metadata": {},
   "outputs": [],
   "source": [
    "#2.2\n",
    "def is_vowel(char):\n",
    "    return False if 'aeiouAEIOU'.find(char) < 0 else True"
   ]
  },
  {
   "cell_type": "code",
   "execution_count": null,
   "metadata": {},
   "outputs": [],
   "source": []
  }
 ],
 "metadata": {
  "kernelspec": {
   "display_name": "Python 3",
   "language": "python",
   "name": "python3"
  },
  "language_info": {
   "codemirror_mode": {
    "name": "ipython",
    "version": 3
   },
   "file_extension": ".py",
   "mimetype": "text/x-python",
   "name": "python",
   "nbconvert_exporter": "python",
   "pygments_lexer": "ipython3",
   "version": "3.7.6"
  }
 },
 "nbformat": 4,
 "nbformat_minor": 4
}
